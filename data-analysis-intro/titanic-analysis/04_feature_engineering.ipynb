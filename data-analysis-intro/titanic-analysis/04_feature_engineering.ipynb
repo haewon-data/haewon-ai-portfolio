{
 "cells": [
  {
   "cell_type": "markdown",
   "id": "6a1d6206",
   "metadata": {},
   "source": [
    "# 🧪 Feature Engineering\n",
    "\n",
    "This notebook focuses on transforming and enriching the Titanic dataset  \n",
    "to create more informative features for machine learning models.\n",
    "\n",
    "---\n",
    "\n",
    "## 🎯 Purpose\n",
    "\n",
    "To apply feature engineering techniques such as encoding, binning,  \n",
    "and feature construction to improve model performance and interpretability.\n",
    "\n",
    "\n",
    "## 📦 Dataset\n",
    "\n",
    "Same dataset as the previous notebooks:  \n",
    "[Titanic - Machine Learning from Disaster](https://www.kaggle.com/c/titanic)  \n",
    "via public repository: [Data Science Dojo GitHub](https://github.com/datasciencedojo/datasets)\n"
   ]
  },
  {
   "cell_type": "markdown",
   "id": "a282ad32",
   "metadata": {},
   "source": [
    "📦 1. Load the Dataset & Set Variables"
   ]
  },
  {
   "cell_type": "code",
   "execution_count": 130,
   "id": "208cf38f",
   "metadata": {},
   "outputs": [],
   "source": [
    "import pandas as pd\n",
    "import seaborn as sns\n",
    "import matplotlib.pyplot as plt\n",
    "\n",
    "sns.set_theme(style='whitegrid')\n",
    "\n",
    "# Load Titanic dataset\n",
    "df = pd.read_csv(\"https://raw.githubusercontent.com/datasciencedojo/datasets/master/titanic.csv\")"
   ]
  },
  {
   "cell_type": "markdown",
   "id": "17220a9c",
   "metadata": {},
   "source": [
    " Handle Missing Values (from previous notebook)"
   ]
  },
  {
   "cell_type": "code",
   "execution_count": 131,
   "id": "542780e9",
   "metadata": {},
   "outputs": [],
   "source": [
    "# Embarked: fill with mode\n",
    "mode_embarked = df['Embarked'].mode()[0]\n",
    "df['Embarked'] = df['Embarked'].fillna(mode_embarked)\n",
    "\n",
    "# Cabin: extract first letter, fill missing as 'U'\n",
    "df['CabinSection'] = df['Cabin'].str[0].fillna('U')\n",
    "\n",
    "# Age: fill with median by Pclass and Sex\n",
    "df['Age'] = df.groupby(['Pclass', 'Sex'])['Age'].transform(\n",
    "    lambda x: x.fillna(x.median())\n",
    ")"
   ]
  },
  {
   "cell_type": "markdown",
   "id": "ba8c307a",
   "metadata": {},
   "source": [
    "🧾 2. Encoding Categorical Variables"
   ]
  },
  {
   "cell_type": "markdown",
   "id": "f4d9cc18",
   "metadata": {},
   "source": [
    "Machine learning models cannot directly interpret categorical variables,<br>\n",
    "so we need to convert them into numerical format.<br>\n",
    "In this step, we encode the following categorical features:\n",
    "- Sex (male, female)\n",
    "\n",
    "- Embarked (C, Q, S)\n",
    "\n",
    "- CabinSection (first letter of Cabin, including 'U' for unknown)\n",
    "\n",
    "- Pclass (1, 2, 3 — treated as categorical)"
   ]
  },
  {
   "cell_type": "markdown",
   "id": "ea4c9d13",
   "metadata": {},
   "source": [
    "2-1. Sex (Label Encoding)\n",
    "\n",
    "<small>\n",
    "Sex is converted to 0 for male and 1 for female.\n",
    "</small>"
   ]
  },
  {
   "cell_type": "code",
   "execution_count": 132,
   "id": "91755570",
   "metadata": {},
   "outputs": [],
   "source": [
    "df['Sex'] = df['Sex'].map({'male': 0, 'female': 1})"
   ]
  },
  {
   "cell_type": "markdown",
   "id": "8baed123",
   "metadata": {},
   "source": [
    "2-2. Embarked (One-Hot Encoding)\n",
    "\n",
    "<small>\n",
    "The embarkation port is categorized as C, Q, or S, and is split into separate dummy variables for each category.\n",
    "</small>"
   ]
  },
  {
   "cell_type": "code",
   "execution_count": 133,
   "id": "3c146186",
   "metadata": {},
   "outputs": [],
   "source": [
    "embarked_dummies = pd.get_dummies(df['Embarked'], prefix='Embarked')\n",
    "df = pd.concat([df, embarked_dummies], axis=1)\n",
    "df.drop('Embarked', axis=1, inplace=True)"
   ]
  },
  {
   "cell_type": "markdown",
   "id": "eaccb685",
   "metadata": {},
   "source": [
    "2-3. CabinSection (One-Hot Encoding)\n",
    "\n",
    "<small>\n",
    "The CabinSection, which indicates cabin areas, includes categories A to G as well as U (used for missing values), and is converted into dummy variables.\n",
    "</small>"
   ]
  },
  {
   "cell_type": "code",
   "execution_count": 134,
   "id": "bec09be8",
   "metadata": {},
   "outputs": [],
   "source": [
    "cabin_dummies = pd.get_dummies(df['CabinSection'], prefix='Cabin')\n",
    "df = pd.concat([df, cabin_dummies], axis=1)\n",
    "df.drop('CabinSection', axis=1, inplace=True)"
   ]
  },
  {
   "cell_type": "markdown",
   "id": "c1ff6566",
   "metadata": {},
   "source": [
    "2-4. Pclass (One-Hot Encoding)\n",
    "\n",
    "<small>\n",
    "Although Pclass appears to be numerical, it is generally treated as an ordinal categorical variable, so we apply one-hot encoding.\n",
    "</small>"
   ]
  },
  {
   "cell_type": "code",
   "execution_count": 135,
   "id": "84586ffa",
   "metadata": {},
   "outputs": [],
   "source": [
    "pclass_dummies = pd.get_dummies(df['Pclass'], prefix='Pclass')\n",
    "df = pd.concat([df, pclass_dummies], axis=1)\n",
    "df.drop('Pclass', axis=1, inplace=True)"
   ]
  },
  {
   "cell_type": "markdown",
   "id": "be757b1a",
   "metadata": {},
   "source": [
    "🧱 3. Construct New Features"
   ]
  },
  {
   "cell_type": "markdown",
   "id": "08b7bc2b",
   "metadata": {},
   "source": [
    "Feature engineering helps uncover useful patterns by transforming or combining existing data.<br>\n",
    "In this section, we construct simple but meaningful features that can support model performance.\n",
    "\n",
    "- FamilySize: Total family members aboard (SibSp + Parch + self)\n",
    "\n",
    "- IsAlone: Whether the passenger was traveling alone\n",
    "\n",
    "- Title: Extracted honorific from Name (e.g., Mr, Miss)\n",
    "\n",
    "- LowFare: Indicates low-cost ticket (Fare < 50)\n",
    "\n",
    "- AgeBin: Age grouped into bins for categorical modeling"
   ]
  },
  {
   "cell_type": "markdown",
   "id": "0580a0d8",
   "metadata": {},
   "source": [
    "3-1. FamilySize"
   ]
  },
  {
   "cell_type": "code",
   "execution_count": 136,
   "id": "66a11663",
   "metadata": {},
   "outputs": [],
   "source": [
    "df['FamilySize'] = df['SibSp'] + df['Parch'] + 1"
   ]
  },
  {
   "cell_type": "markdown",
   "id": "0a01546e",
   "metadata": {},
   "source": [
    "Indicates the total number of family members on board, including the passenger.<br>\n",
    "Having family on board may influence survival chances."
   ]
  },
  {
   "cell_type": "markdown",
   "id": "f68860f2",
   "metadata": {},
   "source": [
    " 3-2. IsAlone"
   ]
  },
  {
   "cell_type": "code",
   "execution_count": 137,
   "id": "c738bb68",
   "metadata": {},
   "outputs": [],
   "source": [
    "df['IsAlone'] = (df['FamilySize'] == 1).astype(int)"
   ]
  },
  {
   "cell_type": "markdown",
   "id": "c0e9ba8b",
   "metadata": {},
   "source": [
    "A binary indicator of whether the passenger was traveling alone.<br>\n",
    "Previous analysis showed that people traveling alone tended to have lower survival rates."
   ]
  },
  {
   "cell_type": "markdown",
   "id": "4b2aa71d",
   "metadata": {},
   "source": [
    "3-3. Title (from Name)"
   ]
  },
  {
   "cell_type": "code",
   "execution_count": 138,
   "id": "57a835fd",
   "metadata": {},
   "outputs": [],
   "source": [
    "df['Title'] = df['Name'].str.extract(r' ([A-Za-z]+)\\.', expand=False)"
   ]
  },
  {
   "cell_type": "markdown",
   "id": "2a282eaf",
   "metadata": {},
   "source": [
    "Extracts social titles (e.g., Mr, Miss, Dr) from the passenger's name.<br>\n",
    "This feature may reflect gender, age group, or even social class or occupation."
   ]
  },
  {
   "cell_type": "markdown",
   "id": "a55dd090",
   "metadata": {},
   "source": [
    "3-4. LowFare"
   ]
  },
  {
   "cell_type": "code",
   "execution_count": 139,
   "id": "1bf8dbc3",
   "metadata": {},
   "outputs": [],
   "source": [
    "df['LowFare'] = (df['Fare'] < 50).astype(int)"
   ]
  },
  {
   "cell_type": "markdown",
   "id": "ed696ff4",
   "metadata": {},
   "source": [
    "Indicates whether the passenger purchased a relatively low-cost ticket.<br>\n",
    "Lower fares are generally associated with third-class passengers and lower survival rates."
   ]
  },
  {
   "cell_type": "markdown",
   "id": "3c8928c0",
   "metadata": {},
   "source": [
    "3-5. AgeBin"
   ]
  },
  {
   "cell_type": "code",
   "execution_count": 140,
   "id": "e59a4b8d",
   "metadata": {},
   "outputs": [],
   "source": [
    "df['AgeBin'] = pd.cut(df['Age'], 5, labels=False)"
   ]
  },
  {
   "cell_type": "markdown",
   "id": "e7f58c6f",
   "metadata": {},
   "source": [
    "Bins the continuous Age variable into equal-width intervals.<br>\n",
    "This allows the model to capture nonlinear relationships between age groups and survival."
   ]
  },
  {
   "cell_type": "markdown",
   "id": "71f846f8",
   "metadata": {},
   "source": [
    "🧬 4. Advanced Feature Construction (based on EDA insights)"
   ]
  },
  {
   "cell_type": "markdown",
   "id": "7ab2646a",
   "metadata": {},
   "source": [
    "These features are designed based on patterns observed during exploratory data analysis (EDA).<br>\n",
    "They aim to capture more nuanced relationships that may improve prediction performance."
   ]
  },
  {
   "cell_type": "markdown",
   "id": "dff0982f",
   "metadata": {},
   "source": [
    "4-1. ModerateFamily"
   ]
  },
  {
   "cell_type": "code",
   "execution_count": 141,
   "id": "a6abd986",
   "metadata": {},
   "outputs": [],
   "source": [
    "df['ModerateFamily'] = df['FamilySize'].apply(lambda x: 1 if 2 <= x <= 4 else 0)"
   ]
  },
  {
   "cell_type": "markdown",
   "id": "2415ef14",
   "metadata": {},
   "source": [
    "In our previous analysis, survival rates varied significantly with family size:\n",
    "\n",
    "- Solo travelers (FamilySize = 1) had relatively low survival rates.\n",
    "\n",
    "- Passengers with 2 to 4 family members had the highest survival likelihood.\n",
    "\n",
    "- Those with larger families (5 or more) tended to have lower survival due to crowding or mobility challenges.\n",
    "\n",
    "This feature highlights the \"moderate family\" group, which seems to benefit from both emotional support and manageable group size during evacuation."
   ]
  },
  {
   "cell_type": "markdown",
   "id": "4c17a5d7",
   "metadata": {},
   "source": [
    " 4-2. IsCherbourg"
   ]
  },
  {
   "cell_type": "code",
   "execution_count": 142,
   "id": "f82d9e3e",
   "metadata": {},
   "outputs": [],
   "source": [
    "df['IsCherbourg'] = (df['Embarked_C'] == 1).astype(int)"
   ]
  },
  {
   "cell_type": "markdown",
   "id": "691d5b0f",
   "metadata": {},
   "source": [
    "Our EDA showed that passengers who boarded from Cherbourg (C)\n",
    "had a noticeably higher survival rate compared to other embarkation points (S, Q).\n",
    "\n",
    "Although the exact reason is unclear, the trend is strong enough to suggest this location\n",
    "might be associated with more favorable conditions, making it a useful signal for modeling.\n",
    "\n",
    "This feature flags Cherbourg boarders as a potentially advantaged group."
   ]
  },
  {
   "cell_type": "markdown",
   "id": "a9710e38",
   "metadata": {},
   "source": [
    "4-3. FemaleFirstSecondClass"
   ]
  },
  {
   "cell_type": "code",
   "execution_count": 143,
   "id": "f9c859f1",
   "metadata": {},
   "outputs": [],
   "source": [
    "df['FemaleFirstSecondClass'] = ((df['Sex'] == 1) & ((df['Pclass_1'] == 1) | (df['Pclass_2'] == 1))).astype(int)"
   ]
  },
  {
   "cell_type": "markdown",
   "id": "7a692a2d",
   "metadata": {},
   "source": [
    "Our EDA revealed that females in first or second class had the highest survival rates among all groups.<br>\n",
    "This likely reflects the \"women and children first\" evacuation protocol combined with better access to lifeboats in higher classes.\n",
    "\n",
    "This feature explicitly identifies passengers who belonged to this high-priority rescue group,<br>\n",
    "which models might otherwise fail to capture through independent variables alone."
   ]
  },
  {
   "cell_type": "markdown",
   "id": "a6d31191",
   "metadata": {},
   "source": [
    "4-4. IsChildOrElderly"
   ]
  },
  {
   "cell_type": "code",
   "execution_count": 144,
   "id": "6ca9185b",
   "metadata": {},
   "outputs": [],
   "source": [
    "df['IsChildOrElderly'] = ((df['Age'] < 10) | (df['Age'] >= 60)).astype(int)"
   ]
  },
  {
   "cell_type": "markdown",
   "id": "a2bc1d1e",
   "metadata": {},
   "source": [
    "In our earlier analysis, children under 10 and elderly passengers over 60<br>\n",
    "stood out with distinctly different survival patterns compared to the general population.\n",
    "\n",
    "Young children were more likely to survive, possibly due to rescue priority.\n",
    "\n",
    "Elderly passengers had much lower survival rates, potentially due to mobility or health.\n",
    "\n",
    "This feature highlights passengers in these extreme age groups, helping the model identify vulnerability or protection factors<br> that may not be captured by raw age or age bins alone."
   ]
  },
  {
   "cell_type": "markdown",
   "id": "27b04f51",
   "metadata": {},
   "source": [
    "4-5. LowFare_3rdClass"
   ]
  },
  {
   "cell_type": "code",
   "execution_count": 145,
   "id": "3077dc2b",
   "metadata": {},
   "outputs": [],
   "source": [
    "df['LowFare_3rdClass'] = ((df['LowFare'] == 1) & (df['Pclass_3'] == 1)).astype(int)"
   ]
  },
  {
   "cell_type": "markdown",
   "id": "f41a7c25",
   "metadata": {},
   "source": [
    "During EDA, we observed that third-class passengers with low fares\n",
    "tended to have the lowest survival rates across the dataset.\n",
    "\n",
    "This feature combines two key disadvantage indicators:\n",
    "\n",
    "- A low-cost ticket (Fare < 50)\n",
    "\n",
    "- A third-class cabin (Pclass_3)\n",
    "\n",
    "By creating this interaction, we help the model explicitly recognize\n",
    "a group that faced particularly unfavorable conditions during the disaster."
   ]
  },
  {
   "cell_type": "markdown",
   "id": "05544feb",
   "metadata": {},
   "source": [
    "### ✅ Final Check: Preview the Engineered Data"
   ]
  },
  {
   "cell_type": "code",
   "execution_count": 146,
   "id": "97d34280",
   "metadata": {},
   "outputs": [
    {
     "name": "stdout",
     "output_type": "stream",
     "text": [
      "Total columns: 35\n",
      "['PassengerId', 'Survived', 'Name', 'Sex', 'Age', 'SibSp', 'Parch', 'Ticket', 'Fare', 'Cabin', 'Embarked_C', 'Embarked_Q', 'Embarked_S', 'Cabin_A', 'Cabin_B', 'Cabin_C', 'Cabin_D', 'Cabin_E', 'Cabin_F', 'Cabin_G', 'Cabin_T', 'Cabin_U', 'Pclass_1', 'Pclass_2', 'Pclass_3', 'FamilySize', 'IsAlone', 'Title', 'LowFare', 'AgeBin', 'ModerateFamily', 'IsCherbourg', 'FemaleFirstSecondClass', 'IsChildOrElderly', 'LowFare_3rdClass']\n"
     ]
    },
    {
     "data": {
      "text/html": [
       "<div>\n",
       "<style scoped>\n",
       "    .dataframe tbody tr th:only-of-type {\n",
       "        vertical-align: middle;\n",
       "    }\n",
       "\n",
       "    .dataframe tbody tr th {\n",
       "        vertical-align: top;\n",
       "    }\n",
       "\n",
       "    .dataframe thead th {\n",
       "        text-align: right;\n",
       "    }\n",
       "</style>\n",
       "<table border=\"1\" class=\"dataframe\">\n",
       "  <thead>\n",
       "    <tr style=\"text-align: right;\">\n",
       "      <th></th>\n",
       "      <th>FamilySize</th>\n",
       "      <th>IsAlone</th>\n",
       "      <th>Title</th>\n",
       "      <th>LowFare</th>\n",
       "      <th>AgeBin</th>\n",
       "      <th>ModerateFamily</th>\n",
       "      <th>IsCherbourg</th>\n",
       "      <th>FemaleFirstSecondClass</th>\n",
       "      <th>IsChildOrElderly</th>\n",
       "      <th>LowFare_3rdClass</th>\n",
       "    </tr>\n",
       "  </thead>\n",
       "  <tbody>\n",
       "    <tr>\n",
       "      <th>0</th>\n",
       "      <td>2</td>\n",
       "      <td>0</td>\n",
       "      <td>Mr</td>\n",
       "      <td>1</td>\n",
       "      <td>1</td>\n",
       "      <td>1</td>\n",
       "      <td>0</td>\n",
       "      <td>0</td>\n",
       "      <td>0</td>\n",
       "      <td>1</td>\n",
       "    </tr>\n",
       "    <tr>\n",
       "      <th>1</th>\n",
       "      <td>2</td>\n",
       "      <td>0</td>\n",
       "      <td>Mrs</td>\n",
       "      <td>0</td>\n",
       "      <td>2</td>\n",
       "      <td>1</td>\n",
       "      <td>1</td>\n",
       "      <td>1</td>\n",
       "      <td>0</td>\n",
       "      <td>0</td>\n",
       "    </tr>\n",
       "    <tr>\n",
       "      <th>2</th>\n",
       "      <td>1</td>\n",
       "      <td>1</td>\n",
       "      <td>Miss</td>\n",
       "      <td>1</td>\n",
       "      <td>1</td>\n",
       "      <td>0</td>\n",
       "      <td>0</td>\n",
       "      <td>0</td>\n",
       "      <td>0</td>\n",
       "      <td>1</td>\n",
       "    </tr>\n",
       "    <tr>\n",
       "      <th>3</th>\n",
       "      <td>2</td>\n",
       "      <td>0</td>\n",
       "      <td>Mrs</td>\n",
       "      <td>0</td>\n",
       "      <td>2</td>\n",
       "      <td>1</td>\n",
       "      <td>0</td>\n",
       "      <td>1</td>\n",
       "      <td>0</td>\n",
       "      <td>0</td>\n",
       "    </tr>\n",
       "    <tr>\n",
       "      <th>4</th>\n",
       "      <td>1</td>\n",
       "      <td>1</td>\n",
       "      <td>Mr</td>\n",
       "      <td>1</td>\n",
       "      <td>2</td>\n",
       "      <td>0</td>\n",
       "      <td>0</td>\n",
       "      <td>0</td>\n",
       "      <td>0</td>\n",
       "      <td>1</td>\n",
       "    </tr>\n",
       "  </tbody>\n",
       "</table>\n",
       "</div>"
      ],
      "text/plain": [
       "   FamilySize  IsAlone Title  LowFare  AgeBin  ModerateFamily  IsCherbourg  \\\n",
       "0           2        0    Mr        1       1               1            0   \n",
       "1           2        0   Mrs        0       2               1            1   \n",
       "2           1        1  Miss        1       1               0            0   \n",
       "3           2        0   Mrs        0       2               1            0   \n",
       "4           1        1    Mr        1       2               0            0   \n",
       "\n",
       "   FemaleFirstSecondClass  IsChildOrElderly  LowFare_3rdClass  \n",
       "0                       0                 0                 1  \n",
       "1                       1                 0                 0  \n",
       "2                       0                 0                 1  \n",
       "3                       1                 0                 0  \n",
       "4                       0                 0                 1  "
      ]
     },
     "execution_count": 146,
     "metadata": {},
     "output_type": "execute_result"
    }
   ],
   "source": [
    "# Check total number of columns\n",
    "print(f\"Total columns: {df.shape[1]}\")\n",
    "\n",
    "# List all column names\n",
    "print(df.columns.tolist())\n",
    "\n",
    "# Preview selected engineered features only\n",
    "df[['FamilySize', 'IsAlone', 'Title', 'LowFare', 'AgeBin',\n",
    "    'ModerateFamily', 'IsCherbourg', 'FemaleFirstSecondClass',\n",
    "    'IsChildOrElderly', 'LowFare_3rdClass']].head()"
   ]
  },
  {
   "cell_type": "markdown",
   "id": "c58f053f",
   "metadata": {},
   "source": [
    "## 🧠 Summary\n",
    "\n",
    "In this notebook, we focused on feature engineering techniques to enhance the predictive power of the Titanic dataset.\n",
    "\n",
    "We completed the following steps:\n",
    "\n",
    "- **Handled missing values** using context-aware imputation strategies\n",
    "- **Encoded categorical variables** such as `Sex`, `Embarked`, and `CabinSection`\n",
    "- **Constructed base features** like:\n",
    "  - `FamilySize` and `IsAlone` for capturing social structure\n",
    "  - `Title` extracted from names\n",
    "  - `LowFare` and `AgeBin` to simplify numerical distributions\n",
    "- **Designed advanced features** based on EDA insights:\n",
    "  - `ModerateFamily`: optimal survival group by family size\n",
    "  - `IsCherbourg`: flagged high-survival embarkation point\n",
    "  - `FemaleFirstSecondClass`: identified priority rescue group\n",
    "  - `IsChildOrElderly`: grouped vulnerable and protected age segments\n",
    "  - `LowFare_3rdClass`: marked a high-risk economic segment\n",
    "\n",
    "These transformations reflect both domain knowledge and data-driven insights,<br>preparing the dataset for effective modeling in the next stage."
   ]
  }
 ],
 "metadata": {
  "kernelspec": {
   "display_name": "Python 3",
   "language": "python",
   "name": "python3"
  },
  "language_info": {
   "codemirror_mode": {
    "name": "ipython",
    "version": 3
   },
   "file_extension": ".py",
   "mimetype": "text/x-python",
   "name": "python",
   "nbconvert_exporter": "python",
   "pygments_lexer": "ipython3",
   "version": "3.13.3"
  }
 },
 "nbformat": 4,
 "nbformat_minor": 5
}
