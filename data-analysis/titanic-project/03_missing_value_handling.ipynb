{
 "cells": [
  {
   "cell_type": "markdown",
   "id": "f0a8a5ac",
   "metadata": {},
   "source": [
    "# 🔧 Handling Missing Values\n",
    "\n",
    "This notebook focuses on identifying and handling missing values in the Titanic dataset  \n",
    "to ensure accurate analysis and modeling in future steps.\n",
    "\n",
    "---\n",
    "\n",
    "## 🎯 Purpose\n",
    "\n",
    "To detect missing values, explore their patterns,  \n",
    "and apply appropriate strategies such as removal or imputation.\n",
    "\n",
    "## 📦 Dataset\n",
    "\n",
    "Same dataset as the previous notebook:  \n",
    "[Titanic - Machine Learning from Disaster](https://www.kaggle.com/c/titanic)  \n",
    "via public repository: [Data Science Dojo GitHub](https://github.com/datasciencedojo/datasets)"
   ]
  },
  {
   "cell_type": "markdown",
   "id": "33f6693e",
   "metadata": {},
   "source": [
    "📦 1. Load the Dataset"
   ]
  },
  {
   "cell_type": "code",
   "execution_count": 212,
   "id": "754e4ca2",
   "metadata": {},
   "outputs": [
    {
     "data": {
      "text/html": [
       "<div>\n",
       "<style scoped>\n",
       "    .dataframe tbody tr th:only-of-type {\n",
       "        vertical-align: middle;\n",
       "    }\n",
       "\n",
       "    .dataframe tbody tr th {\n",
       "        vertical-align: top;\n",
       "    }\n",
       "\n",
       "    .dataframe thead th {\n",
       "        text-align: right;\n",
       "    }\n",
       "</style>\n",
       "<table border=\"1\" class=\"dataframe\">\n",
       "  <thead>\n",
       "    <tr style=\"text-align: right;\">\n",
       "      <th></th>\n",
       "      <th>PassengerId</th>\n",
       "      <th>Survived</th>\n",
       "      <th>Pclass</th>\n",
       "      <th>Name</th>\n",
       "      <th>Sex</th>\n",
       "      <th>Age</th>\n",
       "      <th>SibSp</th>\n",
       "      <th>Parch</th>\n",
       "      <th>Ticket</th>\n",
       "      <th>Fare</th>\n",
       "      <th>Cabin</th>\n",
       "      <th>Embarked</th>\n",
       "    </tr>\n",
       "  </thead>\n",
       "  <tbody>\n",
       "    <tr>\n",
       "      <th>0</th>\n",
       "      <td>1</td>\n",
       "      <td>0</td>\n",
       "      <td>3</td>\n",
       "      <td>Braund, Mr. Owen Harris</td>\n",
       "      <td>male</td>\n",
       "      <td>22.0</td>\n",
       "      <td>1</td>\n",
       "      <td>0</td>\n",
       "      <td>A/5 21171</td>\n",
       "      <td>7.2500</td>\n",
       "      <td>NaN</td>\n",
       "      <td>S</td>\n",
       "    </tr>\n",
       "    <tr>\n",
       "      <th>1</th>\n",
       "      <td>2</td>\n",
       "      <td>1</td>\n",
       "      <td>1</td>\n",
       "      <td>Cumings, Mrs. John Bradley (Florence Briggs Th...</td>\n",
       "      <td>female</td>\n",
       "      <td>38.0</td>\n",
       "      <td>1</td>\n",
       "      <td>0</td>\n",
       "      <td>PC 17599</td>\n",
       "      <td>71.2833</td>\n",
       "      <td>C85</td>\n",
       "      <td>C</td>\n",
       "    </tr>\n",
       "    <tr>\n",
       "      <th>2</th>\n",
       "      <td>3</td>\n",
       "      <td>1</td>\n",
       "      <td>3</td>\n",
       "      <td>Heikkinen, Miss. Laina</td>\n",
       "      <td>female</td>\n",
       "      <td>26.0</td>\n",
       "      <td>0</td>\n",
       "      <td>0</td>\n",
       "      <td>STON/O2. 3101282</td>\n",
       "      <td>7.9250</td>\n",
       "      <td>NaN</td>\n",
       "      <td>S</td>\n",
       "    </tr>\n",
       "    <tr>\n",
       "      <th>3</th>\n",
       "      <td>4</td>\n",
       "      <td>1</td>\n",
       "      <td>1</td>\n",
       "      <td>Futrelle, Mrs. Jacques Heath (Lily May Peel)</td>\n",
       "      <td>female</td>\n",
       "      <td>35.0</td>\n",
       "      <td>1</td>\n",
       "      <td>0</td>\n",
       "      <td>113803</td>\n",
       "      <td>53.1000</td>\n",
       "      <td>C123</td>\n",
       "      <td>S</td>\n",
       "    </tr>\n",
       "    <tr>\n",
       "      <th>4</th>\n",
       "      <td>5</td>\n",
       "      <td>0</td>\n",
       "      <td>3</td>\n",
       "      <td>Allen, Mr. William Henry</td>\n",
       "      <td>male</td>\n",
       "      <td>35.0</td>\n",
       "      <td>0</td>\n",
       "      <td>0</td>\n",
       "      <td>373450</td>\n",
       "      <td>8.0500</td>\n",
       "      <td>NaN</td>\n",
       "      <td>S</td>\n",
       "    </tr>\n",
       "  </tbody>\n",
       "</table>\n",
       "</div>"
      ],
      "text/plain": [
       "   PassengerId  Survived  Pclass  \\\n",
       "0            1         0       3   \n",
       "1            2         1       1   \n",
       "2            3         1       3   \n",
       "3            4         1       1   \n",
       "4            5         0       3   \n",
       "\n",
       "                                                Name     Sex   Age  SibSp  \\\n",
       "0                            Braund, Mr. Owen Harris    male  22.0      1   \n",
       "1  Cumings, Mrs. John Bradley (Florence Briggs Th...  female  38.0      1   \n",
       "2                             Heikkinen, Miss. Laina  female  26.0      0   \n",
       "3       Futrelle, Mrs. Jacques Heath (Lily May Peel)  female  35.0      1   \n",
       "4                           Allen, Mr. William Henry    male  35.0      0   \n",
       "\n",
       "   Parch            Ticket     Fare Cabin Embarked  \n",
       "0      0         A/5 21171   7.2500   NaN        S  \n",
       "1      0          PC 17599  71.2833   C85        C  \n",
       "2      0  STON/O2. 3101282   7.9250   NaN        S  \n",
       "3      0            113803  53.1000  C123        S  \n",
       "4      0            373450   8.0500   NaN        S  "
      ]
     },
     "execution_count": 212,
     "metadata": {},
     "output_type": "execute_result"
    }
   ],
   "source": [
    "import pandas as pd\n",
    "import seaborn as sns\n",
    "import matplotlib.pyplot as plt\n",
    "\n",
    "sns.set_theme(style='whitegrid')\n",
    "\n",
    "# Load Titanic dataset\n",
    "df = pd.read_csv(\"https://raw.githubusercontent.com/datasciencedojo/datasets/master/titanic.csv\")\n",
    "df.head()"
   ]
  },
  {
   "cell_type": "markdown",
   "id": "7f6202ef",
   "metadata": {},
   "source": [
    "🔍 2. Check for Missing Values"
   ]
  },
  {
   "cell_type": "code",
   "execution_count": 213,
   "id": "63a6246b",
   "metadata": {},
   "outputs": [
    {
     "data": {
      "text/plain": [
       "PassengerId      0\n",
       "Survived         0\n",
       "Pclass           0\n",
       "Name             0\n",
       "Sex              0\n",
       "Age            177\n",
       "SibSp            0\n",
       "Parch            0\n",
       "Ticket           0\n",
       "Fare             0\n",
       "Cabin          687\n",
       "Embarked         2\n",
       "dtype: int64"
      ]
     },
     "execution_count": 213,
     "metadata": {},
     "output_type": "execute_result"
    }
   ],
   "source": [
    "# Check missing values in each column\n",
    "df.isnull().sum()"
   ]
  },
  {
   "cell_type": "markdown",
   "id": "e2485003",
   "metadata": {},
   "source": [
    "- While most columns have complete data,<br>\n",
    "`Age`, `Cabin`, and `Embarked` contain missing values that must be addressed.  \n",
    "- Although `Embarked` has very few missing entries, they still need to be handled for modeling consistency."
   ]
  },
  {
   "cell_type": "markdown",
   "id": "51f53b60",
   "metadata": {},
   "source": [
    "🧭 3. Choosing the Right Strategy for Missing Data"
   ]
  },
  {
   "cell_type": "markdown",
   "id": "fc213f02",
   "metadata": {},
   "source": [
    "### Overview: Strategies for Handling Missing Values\n",
    "Before handling specific columns,  \n",
    "let’s briefly review the most common approaches for dealing with missing data.\n",
    "\n",
    "| Strategy                  | Description                                                 | When to Use                                |\n",
    "|---------------------------|-------------------------------------------------------------|--------------------------------------------|\n",
    "| **Deletion**              | Remove rows or columns with missing values                 | When missing data is rare, unimportant, or too extensive to recover   |\n",
    "| **Mean/Median Imputation**| Fill with the average or median of the column              | For numerical columns with moderate gaps   |\n",
    "| **Mode Imputation**       | Fill with the most frequent category                       | For categorical data with few missing rows |\n",
    "| **Constant/Custom Value** | Use a fixed placeholder or context-specific fill           | To clearly mark or flag missing cases      |\n",
    "| **Model-based Imputation**| Predict missing values using other features                | When patterns exist and data is valuable   |\n",
    "| **Treat as Category**     | Encode missing values as a new category                    | For tree-based models or interpretable encoding |\n",
    "\n",
    "In this notebook, we will apply three different methods based on the characteristics of each variable:\n",
    "- `Embarked` → mode imputation (categorical, few missing)\n",
    "- `Age` → median imputation (numeric, moderate missing)\n",
    "- `Cabin` → deletion or feature engineering (mostly missing)"
   ]
  },
  {
   "cell_type": "markdown",
   "id": "2e184a43",
   "metadata": {},
   "source": [
    "🛠 4. Handling Missing Values in Practice"
   ]
  },
  {
   "cell_type": "markdown",
   "id": "3a734c89",
   "metadata": {},
   "source": [
    "4-1. Embarked (Categorical, Few Missing)<br>\n",
    "\n",
    "`Embarked` is a categorical variable with only a few missing values.  \n",
    "Since it's nominal and the number of missing rows is very small,  \n",
    "we can safely fill them with the most frequent category (mode)."
   ]
  },
  {
   "cell_type": "code",
   "execution_count": 214,
   "id": "cea177d6",
   "metadata": {},
   "outputs": [
    {
     "data": {
      "text/plain": [
       "Embarked\n",
       "S      644\n",
       "C      168\n",
       "Q       77\n",
       "NaN      2\n",
       "Name: count, dtype: int64"
      ]
     },
     "execution_count": 214,
     "metadata": {},
     "output_type": "execute_result"
    }
   ],
   "source": [
    "# Check value counts before imputation\n",
    "df['Embarked'].value_counts(dropna=False)"
   ]
  },
  {
   "cell_type": "code",
   "execution_count": 215,
   "id": "05b8e23d",
   "metadata": {},
   "outputs": [],
   "source": [
    "# Fill missing values with the most frequent category (mode)\n",
    "mode_embarked = df['Embarked'].mode()[0]\n",
    "df['Embarked'] = df['Embarked'].fillna(mode_embarked)"
   ]
  },
  {
   "cell_type": "code",
   "execution_count": 216,
   "id": "48e14f52",
   "metadata": {},
   "outputs": [
    {
     "data": {
      "text/plain": [
       "np.int64(0)"
      ]
     },
     "execution_count": 216,
     "metadata": {},
     "output_type": "execute_result"
    }
   ],
   "source": [
    "# Verify that there are no missing values left\n",
    "df['Embarked'].isnull().sum()"
   ]
  },
  {
   "cell_type": "markdown",
   "id": "71c65e0e",
   "metadata": {},
   "source": [
    "4-2. Age (Numerical, Moderately Missing)<br>\n",
    "\n",
    "`Age` is a numerical feature with a moderate amount of missing values.  \n",
    "Since age is an important variable in survival analysis, we will fill the missing values with the **median**,  \n",
    "as it is more robust to outliers than the mean."
   ]
  },
  {
   "cell_type": "code",
   "execution_count": 217,
   "id": "e89fbaad",
   "metadata": {},
   "outputs": [
    {
     "data": {
      "text/plain": [
       "np.int64(177)"
      ]
     },
     "execution_count": 217,
     "metadata": {},
     "output_type": "execute_result"
    }
   ],
   "source": [
    "# Check number of missing values\n",
    "df['Age'].isnull().sum()"
   ]
  },
  {
   "cell_type": "code",
   "execution_count": 218,
   "id": "a35d17fb",
   "metadata": {},
   "outputs": [],
   "source": [
    "# Fill missing values with the median\n",
    "# median_age = df['Age'].median()\n",
    "# df['Age'] = df['Age'].fillna(median_age)"
   ]
  },
  {
   "cell_type": "markdown",
   "id": "8f4bf99f",
   "metadata": {},
   "source": [
    "While filling missing values in Age with the median is generally appropriate for numerical data with a moderate amount of missingness,<br> it may not be the best choice in this case.\n",
    "\n",
    "Our previous analysis showed that Age is strongly correlated with survival.\n",
    "Replacing nearly 20% of the values with a single number could distort the age distribution\n",
    "and lead the model to learn incorrect patterns.\n",
    "\n",
    "Therefore, we will impute the missing values based on Pclass and Sex\n",
    "to better preserve the underlying structure of the data."
   ]
  },
  {
   "cell_type": "code",
   "execution_count": 219,
   "id": "305ad591",
   "metadata": {},
   "outputs": [
    {
     "data": {
      "text/plain": [
       "Pclass  Sex   \n",
       "1       female    35.0\n",
       "        male      40.0\n",
       "2       female    28.0\n",
       "        male      30.0\n",
       "3       female    21.5\n",
       "        male      25.0\n",
       "Name: Age, dtype: float64"
      ]
     },
     "execution_count": 219,
     "metadata": {},
     "output_type": "execute_result"
    }
   ],
   "source": [
    "# First, check group medians\n",
    "df.groupby(['Pclass', 'Sex'])['Age'].median()\n"
   ]
  },
  {
   "cell_type": "code",
   "execution_count": 220,
   "id": "5950280c",
   "metadata": {},
   "outputs": [],
   "source": [
    "# Apply group-based imputation\n",
    "df['Age'] = df.groupby(['Pclass', 'Sex'])['Age'].transform(\n",
    "    lambda x: x.fillna(x.median())\n",
    ")"
   ]
  },
  {
   "cell_type": "code",
   "execution_count": 221,
   "id": "e97092b2",
   "metadata": {},
   "outputs": [
    {
     "data": {
      "text/plain": [
       "np.int64(0)"
      ]
     },
     "execution_count": 221,
     "metadata": {},
     "output_type": "execute_result"
    }
   ],
   "source": [
    "# Confirm that no missing values remain\n",
    "df['Age'].isnull().sum()"
   ]
  },
  {
   "cell_type": "markdown",
   "id": "1b3e9504",
   "metadata": {},
   "source": [
    "4-3. Cabin (Mostly Missing)\n",
    "\n",
    "`Cabin` has over 75% missing values, making it unreliable for direct imputation.  \n",
    "In this case, there are two reasonable options:\n",
    "\n",
    "- **Drop the column**, as it's mostly empty and may add noise.\n",
    "- **Extract the first letter (cabin section)** as a new feature, and treat missing as a separate category.\n",
    "\n",
    "For this notebook, we’ll extract the first letter of the cabin (e.g., 'C123' → 'C')  \n",
    "and fill missing values with 'U' for 'Unknown'."
   ]
  },
  {
   "cell_type": "code",
   "execution_count": 222,
   "id": "c5140dde",
   "metadata": {},
   "outputs": [
    {
     "data": {
      "text/plain": [
       "np.int64(687)"
      ]
     },
     "execution_count": 222,
     "metadata": {},
     "output_type": "execute_result"
    }
   ],
   "source": [
    "# Check number of missing values\n",
    "df['Cabin'].isnull().sum()"
   ]
  },
  {
   "cell_type": "code",
   "execution_count": 223,
   "id": "667f3ff5",
   "metadata": {},
   "outputs": [],
   "source": [
    "# Extract the first letter of the cabin (e.g., 'C123' → 'C')\n",
    "df['Cabin_initial'] = df['Cabin'].str[0]\n",
    "\n",
    "# Fill missing values with 'U' for 'Unknown'\n",
    "df['Cabin_initial'] = df['Cabin_initial'].fillna('U')"
   ]
  },
  {
   "cell_type": "code",
   "execution_count": 224,
   "id": "e28e1243",
   "metadata": {},
   "outputs": [
    {
     "data": {
      "text/plain": [
       "np.int64(0)"
      ]
     },
     "execution_count": 224,
     "metadata": {},
     "output_type": "execute_result"
    }
   ],
   "source": [
    "# Confirm that no missing values remain\n",
    "df['Cabin'].isnull().sum()"
   ]
  },
  {
   "cell_type": "markdown",
   "id": "f8359201",
   "metadata": {},
   "source": [
    "🧪 5. Analyze Survival by Cabin Section"
   ]
  },
  {
   "cell_type": "markdown",
   "id": "5d4638fc",
   "metadata": {},
   "source": [
    "In the previous exploratory analysis, we skipped the `Cabin` variable due to excessive missing values.  \n",
    "Now that we’ve extracted usable information and handled the missing data,  \n",
    "we can finally explore whether different cabin sections are related to survival outcomes.\n",
    "\n",
    "We’ll use the first letter of each cabin (e.g., A, B, C...) to represent cabin sections."
   ]
  },
  {
   "cell_type": "code",
   "execution_count": 225,
   "id": "cd292d77",
   "metadata": {},
   "outputs": [
    {
     "data": {
      "image/png": "[encoded data removed]",
      "text/plain": [
       "<Figure size 640x480 with 1 Axes>"
      ]
     },
     "metadata": {},
     "output_type": "display_data"
    }
   ],
   "source": [
    "# Survival count by cabin section\n",
    "sns.countplot(x='Cabin_initial', hue='Survived', data=df, order=sorted(df['Cabin_initial'].unique()))\n",
    "plt.title('Survival Count by Cabin Section')\n",
    "plt.xlabel('Cabin Section')\n",
    "plt.ylabel('Passenger Count')\n",
    "plt.show()"
   ]
  },
  {
   "cell_type": "markdown",
   "id": "eddfc997",
   "metadata": {},
   "source": [
    "- Most passengers with missing cabin information (represented by 'U') had lower survival rates,  \n",
    "while certain sections like B, C, and E showed notably higher survival.\n",
    "\n",
    "- This suggests that cabin location — likely linked to ticket class or location on the ship —  \n",
    "may have influenced survival, and even missingness itself could carry meaningful information."
   ]
  },
  {
   "cell_type": "markdown",
   "id": "a1b81d85",
   "metadata": {},
   "source": [
    "## 🧠 Summary\n",
    "\n",
    "In this notebook, we focused on handling missing values across multiple variables  \n",
    "and explored how imputation choices affect analysis outcomes.\n",
    "\n",
    "**Key actions taken:**\n",
    "\n",
    "- **Embarked**: Filled with the most frequent value (mode),  \n",
    "  as the number of missing entries was small and the variable was categorical.\n",
    "\n",
    "- **Age**: Initially filled with the median, but updated using group-specific medians  \n",
    "  based on `Pclass` and `Sex` to better preserve its relationship with survival.\n",
    "\n",
    "- **Cabin**: Over 75% of values were missing.  \n",
    "  We extracted the first letter as a new categorical feature and replaced missing values with `'U'` (Unknown).  \n",
    "  This allowed us to include the variable in survival analysis and uncover patterns hidden by missing data.\n",
    "\n",
    "**Insight:**  \n",
    "Different strategies were applied depending on each variable’s type, importance, and missingness ratio.  \n",
    "This flexible and thoughtful approach helped improve data quality while preserving structure for future modeling.\n"
   ]
  }
 ],
 "metadata": {
  "kernelspec": {
   "display_name": "Python 3",
   "language": "python",
   "name": "python3"
  },
  "language_info": {
   "codemirror_mode": {
    "name": "ipython",
    "version": 3
   },
   "file_extension": ".py",
   "mimetype": "text/x-python",
   "name": "python",
   "nbconvert_exporter": "python",
   "pygments_lexer": "ipython3",
   "version": "3.13.3"
  }
 },
 "nbformat": 4,
 "nbformat_minor": 5
}
